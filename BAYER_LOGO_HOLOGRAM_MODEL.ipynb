{
  "nbformat": 4,
  "nbformat_minor": 0,
  "metadata": {
    "colab": {
      "name": "BAYER_LOGO_HOLOGRAM_MODEL.ipynb",
      "provenance": [],
      "include_colab_link": true
    },
    "kernelspec": {
      "name": "python3",
      "display_name": "Python 3"
    },
    "language_info": {
      "name": "python"
    }
  },
  "cells": [
    {
      "cell_type": "markdown",
      "metadata": {
        "id": "view-in-github",
        "colab_type": "text"
      },
      "source": [
        "<a href=\"https://colab.research.google.com/github/rithish26/BAYER-FINAL-APP/blob/main/BAYER_LOGO_HOLOGRAM_MODEL.ipynb\" target=\"_parent\"><img src=\"https://colab.research.google.com/assets/colab-badge.svg\" alt=\"Open In Colab\"/></a>"
      ]
    },
    {
      "cell_type": "markdown",
      "metadata": {
        "id": "4oL9XJAvcDoW"
      },
      "source": [
        "#**BAYER - Solution of multipurpose needs**\n",
        "###by\n",
        "##TEAM - HACKER ELITES "
      ]
    },
    {
      "cell_type": "markdown",
      "metadata": {
        "id": "Eh2tNhDdDvu9"
      },
      "source": [
        "#We import the libraries which are required \n",
        "\n",
        "\n",
        "1.  **Tensorflow** to train and predict the image.\n",
        "2.  **Numpy** to access arrays\n",
        "3.  **OS** for accessing over files \n",
        "\n"
      ]
    },
    {
      "cell_type": "code",
      "metadata": {
        "id": "4wDc9pKgeZL0"
      },
      "source": [
        "import numpy as np\n",
        "import tensorflow as tf\n",
        "import os"
      ],
      "execution_count": null,
      "outputs": []
    },
    {
      "cell_type": "code",
      "metadata": {
        "id": "7U_7DpnGvd8A"
      },
      "source": [
        "#Importing training data from drive\n",
        "\n",
        "data_path='/content/drive/MyDrive/BAYER_DATA'\n"
      ],
      "execution_count": null,
      "outputs": []
    },
    {
      "cell_type": "markdown",
      "metadata": {
        "id": "ECBzCEIjEly5"
      },
      "source": [
        "#Declaration of all required variables for the model"
      ]
    },
    {
      "cell_type": "code",
      "metadata": {
        "colab": {
          "base_uri": "https://localhost:8080/"
        },
        "id": "H8Akkug1zAuP",
        "outputId": "654ef84b-98fd-4a51-9f5b-4e088103361f"
      },
      "source": [
        "image_size=224\n",
        "batch_size=128\n",
        "\n",
        "datagen=tf.keras.preprocessing.image.ImageDataGenerator(\n",
        "    rescale=1./255,\n",
        "    validation_split=0.2\n",
        "\n",
        ")\n",
        "# Split the data for training and testing\n",
        "\n",
        "train_generator=datagen.flow_from_directory(\n",
        "    data_path,\n",
        "    target_size=(image_size,image_size),\n",
        "    batch_size=batch_size,\n",
        "    subset='training')\n",
        "\n",
        "# Generation of training data from all the samples\n",
        "\n",
        "val_generator=datagen.flow_from_directory(\n",
        "    data_path,\n",
        "    target_size=(image_size,image_size),\n",
        "    batch_size=batch_size,\n",
        "    subset='validation'\n",
        ")\n",
        "\n",
        "# Genreration of the testing data from all the samples"
      ],
      "execution_count": null,
      "outputs": [
        {
          "output_type": "stream",
          "name": "stdout",
          "text": [
            "Found 2563 images belonging to 4 classes.\n",
            "Found 639 images belonging to 4 classes.\n"
          ]
        }
      ]
    },
    {
      "cell_type": "markdown",
      "metadata": {
        "id": "SvOAR6quFDSL"
      },
      "source": [
        "# Declaring the Labels for the samples which we have created to use them as classes"
      ]
    },
    {
      "cell_type": "code",
      "metadata": {
        "colab": {
          "base_uri": "https://localhost:8080/"
        },
        "id": "qjCJCsHV3XyX",
        "outputId": "99af0058-8be4-4961-9fd9-5d250181f13b"
      },
      "source": [
        "print(train_generator.class_indices)\n",
        "\n",
        "labels = '\\n'.join(sorted(train_generator.class_indices.keys()))\n",
        "\n",
        "with open('labels.txt','w') as f:\n",
        "  f.write(labels)\n",
        "\n",
        "#Creating the text file with the classes which we have included in the model"
      ],
      "execution_count": null,
      "outputs": [
        {
          "output_type": "stream",
          "name": "stdout",
          "text": [
            "{'BAYER_LOGO': 0, 'FAKE_HOLOGRAM_LOGO': 1, 'HOLOGRAM': 2, 'NOT_A_BAYER_LOGO': 3}\n"
          ]
        }
      ]
    },
    {
      "cell_type": "markdown",
      "metadata": {
        "id": "sKHDFIQ3FOUP"
      },
      "source": [
        "# Developing the model for predicting the images"
      ]
    },
    {
      "cell_type": "code",
      "metadata": {
        "id": "VThB2XeM4ATi",
        "colab": {
          "base_uri": "https://localhost:8080/"
        },
        "outputId": "fce64907-f3fb-4e22-d604-18010442f456"
      },
      "source": [
        "img_shape=(image_size,image_size,3) #Input image shape\n",
        "\n",
        "base_model=tf.keras.applications.MobileNetV2(input_shape=img_shape,include_top=False,weights='imagenet')\n"
      ],
      "execution_count": null,
      "outputs": [
        {
          "output_type": "stream",
          "name": "stdout",
          "text": [
            "Downloading data from https://storage.googleapis.com/tensorflow/keras-applications/mobilenet_v2/mobilenet_v2_weights_tf_dim_ordering_tf_kernels_1.0_224_no_top.h5\n",
            "9412608/9406464 [==============================] - 0s 0us/step\n",
            "9420800/9406464 [==============================] - 0s 0us/step\n"
          ]
        }
      ]
    },
    {
      "cell_type": "code",
      "metadata": {
        "id": "v0d-C5Sb44Jk"
      },
      "source": [
        "base_model.trainable=False\n"
      ],
      "execution_count": null,
      "outputs": []
    },
    {
      "cell_type": "markdown",
      "metadata": {
        "id": "vJBoXwDRFf35"
      },
      "source": [
        "# Creating the layers for the model using keras,sequential"
      ]
    },
    {
      "cell_type": "code",
      "metadata": {
        "id": "JS0dKXZ148Zx"
      },
      "source": [
        "model=tf.keras.Sequential([\n",
        "    base_model,\n",
        "    tf.keras.layers.Conv2D(32,3,activation='relu'),\n",
        "    tf.keras.layers.Dropout(0.2),\n",
        "    tf.keras.layers.GlobalAveragePooling2D(),\n",
        "    tf.keras.layers.Dense(4,activation='softmax')\n",
        "])"
      ],
      "execution_count": null,
      "outputs": []
    },
    {
      "cell_type": "markdown",
      "metadata": {
        "id": "06Dq-1hoFrn5"
      },
      "source": [
        "# Compilation of the developed model using suitable losses and metrics"
      ]
    },
    {
      "cell_type": "code",
      "metadata": {
        "id": "g8VE9A156EeD"
      },
      "source": [
        "model.compile(optimizer=tf.keras.optimizers.Adam(),loss='categorical_crossentropy',metrics=['accuracy'])"
      ],
      "execution_count": null,
      "outputs": []
    },
    {
      "cell_type": "markdown",
      "metadata": {
        "id": "C3wqSEgzFzAh"
      },
      "source": [
        "# Fitting the model to the input samples with the suitable epochs"
      ]
    },
    {
      "cell_type": "code",
      "metadata": {
        "colab": {
          "base_uri": "https://localhost:8080/"
        },
        "id": "HzBj-DUb6YJ9",
        "outputId": "92a3fda0-4c72-4f8f-b763-ba2a80828f3d"
      },
      "source": [
        "epochs=5\n",
        "\n",
        "history = model.fit(train_generator,\n",
        "                    epochs=epochs,\n",
        "                    validation_data=val_generator)"
      ],
      "execution_count": null,
      "outputs": [
        {
          "output_type": "stream",
          "name": "stdout",
          "text": [
            "Epoch 1/5\n",
            "21/21 [==============================] - 767s 36s/step - loss: 0.1318 - accuracy: 0.9419 - val_loss: 6.0234e-07 - val_accuracy: 1.0000\n",
            "Epoch 2/5\n",
            "21/21 [==============================] - 98s 5s/step - loss: 4.6760e-04 - accuracy: 0.9996 - val_loss: 1.6580e-06 - val_accuracy: 1.0000\n",
            "Epoch 3/5\n",
            "21/21 [==============================] - 98s 5s/step - loss: 6.5997e-08 - accuracy: 1.0000 - val_loss: 2.0867e-06 - val_accuracy: 1.0000\n",
            "Epoch 4/5\n",
            "21/21 [==============================] - 98s 5s/step - loss: 2.5209e-08 - accuracy: 1.0000 - val_loss: 2.1521e-06 - val_accuracy: 1.0000\n",
            "Epoch 5/5\n",
            "21/21 [==============================] - 99s 5s/step - loss: 9.4972e-08 - accuracy: 1.0000 - val_loss: 2.1672e-06 - val_accuracy: 1.0000\n"
          ]
        }
      ]
    },
    {
      "cell_type": "markdown",
      "metadata": {
        "id": "QrpkYPJ0GAgH"
      },
      "source": [
        "# Saving the model generated by the code for testing and predicting in the application"
      ]
    },
    {
      "cell_type": "code",
      "metadata": {
        "colab": {
          "base_uri": "https://localhost:8080/"
        },
        "id": "IsNy04bo68hc",
        "outputId": "a2e3835c-9c68-467a-e723-b3e9f6a53905"
      },
      "source": [
        "saved_model_dir=''\n",
        "tf.saved_model.save(model,saved_model_dir)\n",
        "\n",
        "converter=tf.lite.TFLiteConverter.from_saved_model(saved_model_dir)\n",
        "tflite_model=converter.convert()\n",
        "\n",
        "with open('model.tflite','wb') as f:\n",
        "  f.write(tflite_model)"
      ],
      "execution_count": null,
      "outputs": [
        {
          "output_type": "stream",
          "name": "stderr",
          "text": [
            "WARNING:absl:Function `_wrapped_model` contains input name(s) mobilenetv2_1.00_224_input with unsupported characters which will be renamed to mobilenetv2_1_00_224_input in the SavedModel.\n"
          ]
        },
        {
          "output_type": "stream",
          "name": "stdout",
          "text": [
            "INFO:tensorflow:Assets written to: assets\n"
          ]
        },
        {
          "output_type": "stream",
          "name": "stderr",
          "text": [
            "INFO:tensorflow:Assets written to: assets\n",
            "WARNING:absl:Function `signature_wrapper` contains input name(s) mobilenetv2_1.00_224_input with unsupported characters which will be renamed to mobilenetv2_1_00_224_input in the SavedModel.\n"
          ]
        },
        {
          "output_type": "stream",
          "name": "stdout",
          "text": [
            "INFO:tensorflow:Assets written to: /tmp/tmp1pylmegg/assets\n"
          ]
        },
        {
          "output_type": "stream",
          "name": "stderr",
          "text": [
            "INFO:tensorflow:Assets written to: /tmp/tmp1pylmegg/assets\n",
            "WARNING:absl:Buffer deduplication procedure will be skipped when flatbuffer library is not properly loaded\n"
          ]
        }
      ]
    },
    {
      "cell_type": "markdown",
      "metadata": {
        "id": "T7BYG0jKGJm3"
      },
      "source": [
        "# Downloading the two required files directly into the system "
      ]
    },
    {
      "cell_type": "code",
      "metadata": {
        "colab": {
          "base_uri": "https://localhost:8080/",
          "height": 17
        },
        "id": "rs6Dy0vh8EmW",
        "outputId": "8f269876-9bd5-4e32-db4c-6b6611c82a5f"
      },
      "source": [
        "from google.colab import files\n",
        "\n",
        "files.download('model.tflite')\n",
        "files.download('labels.txt')"
      ],
      "execution_count": null,
      "outputs": [
        {
          "output_type": "display_data",
          "data": {
            "application/javascript": [
              "\n",
              "    async function download(id, filename, size) {\n",
              "      if (!google.colab.kernel.accessAllowed) {\n",
              "        return;\n",
              "      }\n",
              "      const div = document.createElement('div');\n",
              "      const label = document.createElement('label');\n",
              "      label.textContent = `Downloading \"${filename}\": `;\n",
              "      div.appendChild(label);\n",
              "      const progress = document.createElement('progress');\n",
              "      progress.max = size;\n",
              "      div.appendChild(progress);\n",
              "      document.body.appendChild(div);\n",
              "\n",
              "      const buffers = [];\n",
              "      let downloaded = 0;\n",
              "\n",
              "      const channel = await google.colab.kernel.comms.open(id);\n",
              "      // Send a message to notify the kernel that we're ready.\n",
              "      channel.send({})\n",
              "\n",
              "      for await (const message of channel.messages) {\n",
              "        // Send a message to notify the kernel that we're ready.\n",
              "        channel.send({})\n",
              "        if (message.buffers) {\n",
              "          for (const buffer of message.buffers) {\n",
              "            buffers.push(buffer);\n",
              "            downloaded += buffer.byteLength;\n",
              "            progress.value = downloaded;\n",
              "          }\n",
              "        }\n",
              "      }\n",
              "      const blob = new Blob(buffers, {type: 'application/binary'});\n",
              "      const a = document.createElement('a');\n",
              "      a.href = window.URL.createObjectURL(blob);\n",
              "      a.download = filename;\n",
              "      div.appendChild(a);\n",
              "      a.click();\n",
              "      div.remove();\n",
              "    }\n",
              "  "
            ],
            "text/plain": [
              "<IPython.core.display.Javascript object>"
            ]
          },
          "metadata": {}
        },
        {
          "output_type": "display_data",
          "data": {
            "application/javascript": [
              "download(\"download_a648e9e1-b2c3-41a8-80e1-0aca7fa67682\", \"model.tflite\", 10344032)"
            ],
            "text/plain": [
              "<IPython.core.display.Javascript object>"
            ]
          },
          "metadata": {}
        },
        {
          "output_type": "display_data",
          "data": {
            "application/javascript": [
              "\n",
              "    async function download(id, filename, size) {\n",
              "      if (!google.colab.kernel.accessAllowed) {\n",
              "        return;\n",
              "      }\n",
              "      const div = document.createElement('div');\n",
              "      const label = document.createElement('label');\n",
              "      label.textContent = `Downloading \"${filename}\": `;\n",
              "      div.appendChild(label);\n",
              "      const progress = document.createElement('progress');\n",
              "      progress.max = size;\n",
              "      div.appendChild(progress);\n",
              "      document.body.appendChild(div);\n",
              "\n",
              "      const buffers = [];\n",
              "      let downloaded = 0;\n",
              "\n",
              "      const channel = await google.colab.kernel.comms.open(id);\n",
              "      // Send a message to notify the kernel that we're ready.\n",
              "      channel.send({})\n",
              "\n",
              "      for await (const message of channel.messages) {\n",
              "        // Send a message to notify the kernel that we're ready.\n",
              "        channel.send({})\n",
              "        if (message.buffers) {\n",
              "          for (const buffer of message.buffers) {\n",
              "            buffers.push(buffer);\n",
              "            downloaded += buffer.byteLength;\n",
              "            progress.value = downloaded;\n",
              "          }\n",
              "        }\n",
              "      }\n",
              "      const blob = new Blob(buffers, {type: 'application/binary'});\n",
              "      const a = document.createElement('a');\n",
              "      a.href = window.URL.createObjectURL(blob);\n",
              "      a.download = filename;\n",
              "      div.appendChild(a);\n",
              "      a.click();\n",
              "      div.remove();\n",
              "    }\n",
              "  "
            ],
            "text/plain": [
              "<IPython.core.display.Javascript object>"
            ]
          },
          "metadata": {}
        },
        {
          "output_type": "display_data",
          "data": {
            "application/javascript": [
              "download(\"download_18acbfc0-e7d1-4684-beec-17206aeacd73\", \"labels.txt\", 55)"
            ],
            "text/plain": [
              "<IPython.core.display.Javascript object>"
            ]
          },
          "metadata": {}
        }
      ]
    }
  ]
}